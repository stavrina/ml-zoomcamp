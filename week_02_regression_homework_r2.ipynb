{
 "cells": [
  {
   "cell_type": "markdown",
   "metadata": {},
   "source": [
    "# ML Zoomcamp Homework Week 02"
   ]
  },
  {
   "cell_type": "code",
   "execution_count": 56,
   "metadata": {},
   "outputs": [],
   "source": [
    "import pandas as pd\n",
    "import numpy as np\n",
    "import matplotlib.pyplot as plt\n",
    "import seaborn as sns"
   ]
  },
  {
   "cell_type": "markdown",
   "metadata": {},
   "source": [
    "## Import Dataset"
   ]
  },
  {
   "cell_type": "code",
   "execution_count": 57,
   "metadata": {},
   "outputs": [],
   "source": [
    "# ! wget https://raw.githubusercontent.com/alexeygrigorev/datasets/master/laptops.csv"
   ]
  },
  {
   "cell_type": "code",
   "execution_count": 58,
   "metadata": {},
   "outputs": [],
   "source": [
    "df = pd.read_csv('laptops.csv')"
   ]
  },
  {
   "cell_type": "code",
   "execution_count": 59,
   "metadata": {},
   "outputs": [],
   "source": [
    "df.columns = df.columns.str.lower().str.replace(' ', '_')"
   ]
  },
  {
   "cell_type": "code",
   "execution_count": 60,
   "metadata": {},
   "outputs": [],
   "source": [
    "filtered_df = df[['ram', 'storage', 'screen', 'final_price']].copy()"
   ]
  },
  {
   "cell_type": "markdown",
   "metadata": {},
   "source": [
    "## EDA"
   ]
  },
  {
   "cell_type": "code",
   "execution_count": 61,
   "metadata": {},
   "outputs": [
    {
     "data": {
      "image/png": "[encoded data removed]",
      "text/plain": [
       "<Figure size 600x300 with 1 Axes>"
      ]
     },
     "metadata": {},
     "output_type": "display_data"
    }
   ],
   "source": [
    "plt.figure(figsize=(6, 3), frameon=True)\n",
    "sns.histplot(filtered_df['final_price'])\n",
    "plt.show()"
   ]
  },
  {
   "cell_type": "code",
   "execution_count": 62,
   "metadata": {},
   "outputs": [
    {
     "data": {
      "image/png": "[encoded data removed]",
      "text/plain": [
       "<Figure size 600x300 with 1 Axes>"
      ]
     },
     "metadata": {},
     "output_type": "display_data"
    }
   ],
   "source": [
    "plt.figure(figsize=(6, 3), frameon=True)\n",
    "sns.histplot(np.log1p(filtered_df['final_price']))\n",
    "plt.show()"
   ]
  },
  {
   "cell_type": "markdown",
   "metadata": {},
   "source": [
    "It's evident that we need to normalise the response witha log transformation but this is not part of the instructions."
   ]
  },
  {
   "cell_type": "code",
   "execution_count": 63,
   "metadata": {},
   "outputs": [
    {
     "data": {
      "text/plain": [
       "['screen']"
      ]
     },
     "execution_count": 63,
     "metadata": {},
     "output_type": "execute_result"
    }
   ],
   "source": [
    "[col for col in filtered_df if filtered_df[col].isnull().any()]"
   ]
  },
  {
   "cell_type": "markdown",
   "metadata": {},
   "source": [
    "### Answer 1\n",
    "\n",
    "The `screen` column has missing values"
   ]
  },
  {
   "cell_type": "markdown",
   "metadata": {},
   "source": [
    "## Question 2"
   ]
  },
  {
   "cell_type": "code",
   "execution_count": 64,
   "metadata": {},
   "outputs": [
    {
     "name": "stdout",
     "output_type": "stream",
     "text": [
      "count    2160.000000\n",
      "mean       15.413889\n",
      "std         9.867815\n",
      "min         4.000000\n",
      "25%         8.000000\n",
      "50%        16.000000\n",
      "75%        16.000000\n",
      "max       128.000000\n",
      "Name: ram, dtype: float64\n"
     ]
    }
   ],
   "source": [
    "print(filtered_df['ram'].describe())"
   ]
  },
  {
   "cell_type": "markdown",
   "metadata": {},
   "source": [
    "### Answer 2\n",
    "\n",
    "The median for the `ram` column is `16`"
   ]
  },
  {
   "cell_type": "code",
   "execution_count": 65,
   "metadata": {},
   "outputs": [],
   "source": [
    "n = len(filtered_df)\n",
    "n_test = int(0.2 * n)\n",
    "n_val = int(0.2 * n)\n",
    "n_train = n - n_test - n_val\n"
   ]
  },
  {
   "cell_type": "code",
   "execution_count": 66,
   "metadata": {},
   "outputs": [],
   "source": [
    "idx = np.arange(n)"
   ]
  },
  {
   "cell_type": "code",
   "execution_count": 67,
   "metadata": {},
   "outputs": [],
   "source": [
    "np.random.seed(42)\n",
    "np.random.shuffle(idx)"
   ]
  },
  {
   "cell_type": "code",
   "execution_count": 68,
   "metadata": {},
   "outputs": [],
   "source": [
    "df_train = filtered_df.iloc[idx[:n_train]]\n",
    "df_val = filtered_df.iloc[idx[n_train:n_train+n_val]]\n",
    "df_test = filtered_df.iloc[idx[n_train+n_val:]]"
   ]
  },
  {
   "cell_type": "code",
   "execution_count": 69,
   "metadata": {},
   "outputs": [],
   "source": [
    "df_test = df_test.reset_index(drop=True)\n",
    "df_val = df_val.reset_index(drop=True)\n",
    "df_train = df_train.reset_index(drop=True)"
   ]
  },
  {
   "cell_type": "code",
   "execution_count": 70,
   "metadata": {},
   "outputs": [],
   "source": [
    "y_test = df_test['final_price'].values\n",
    "y_val = df_val['final_price'].values\n",
    "y_train = df_train['final_price'].values"
   ]
  },
  {
   "cell_type": "code",
   "execution_count": 71,
   "metadata": {},
   "outputs": [],
   "source": [
    "df_test = df_test.drop('final_price', axis=1)\n",
    "df_val = df_val.drop('final_price', axis=1)\n",
    "df_train = df_train.drop('final_price', axis=1)"
   ]
  },
  {
   "cell_type": "markdown",
   "metadata": {},
   "source": [
    "## Question 3"
   ]
  },
  {
   "cell_type": "code",
   "execution_count": 72,
   "metadata": {},
   "outputs": [],
   "source": [
    "df_train_zero = df_train.copy()\n",
    "df_train_zero['screen'] = df_train_zero['screen'].fillna(0)\n",
    "\n",
    "df_train_median = df_train.copy()\n",
    "df_train_median['screen'] = df_train_median['screen'].fillna(df_train_median['screen'].median())"
   ]
  },
  {
   "cell_type": "code",
   "execution_count": 73,
   "metadata": {},
   "outputs": [],
   "source": [
    "def train_linear_regression(X, y):\n",
    "    ones = np.ones(X.shape[0])\n",
    "    X = np.column_stack([ones, X])\n",
    "    \n",
    "    XTX = X.T.dot(X)\n",
    "    XTX_inv = np.linalg.inv(XTX)\n",
    "    w_full = XTX_inv.dot(X.T).dot(y)\n",
    "    return w_full[0], w_full[1:]"
   ]
  },
  {
   "cell_type": "code",
   "execution_count": 74,
   "metadata": {},
   "outputs": [],
   "source": [
    "def calc_rmse(y_actual, y_pred):\n",
    "    squared_error = (y_actual - y_pred) ** 2\n",
    "    mean_squared_error = squared_error.mean()\n",
    "    return np.sqrt(mean_squared_error)"
   ]
  },
  {
   "cell_type": "code",
   "execution_count": 75,
   "metadata": {},
   "outputs": [],
   "source": [
    "parameters_zero = train_linear_regression(df_train_zero, y_train)"
   ]
  },
  {
   "cell_type": "code",
   "execution_count": 76,
   "metadata": {},
   "outputs": [],
   "source": [
    "y_pred_zero = parameters_zero[0] + df_train_zero.to_numpy().dot(parameters_zero[1])"
   ]
  },
  {
   "cell_type": "code",
   "execution_count": 77,
   "metadata": {},
   "outputs": [
    {
     "data": {
      "text/plain": [
       "np.float64(602.39)"
      ]
     },
     "execution_count": 77,
     "metadata": {},
     "output_type": "execute_result"
    }
   ],
   "source": [
    "round(calc_rmse(y_train, y_pred_zero), 2)"
   ]
  },
  {
   "cell_type": "code",
   "execution_count": 78,
   "metadata": {},
   "outputs": [],
   "source": [
    "parameters_median = train_linear_regression(df_train_median, y_train)"
   ]
  },
  {
   "cell_type": "code",
   "execution_count": 79,
   "metadata": {},
   "outputs": [],
   "source": [
    "y_pred_median = parameters_median[0] + df_train_median.to_numpy().dot(parameters_median[1])"
   ]
  },
  {
   "cell_type": "code",
   "execution_count": 80,
   "metadata": {},
   "outputs": [
    {
     "data": {
      "text/plain": [
       "np.float64(602.2)"
      ]
     },
     "execution_count": 80,
     "metadata": {},
     "output_type": "execute_result"
    }
   ],
   "source": [
    "round(calc_rmse(y_train, y_pred_median), 2)"
   ]
  },
  {
   "cell_type": "markdown",
   "metadata": {},
   "source": [
    "### Answer 3\n",
    "\n",
    "Both options for data imputation are equally good at this point"
   ]
  },
  {
   "cell_type": "markdown",
   "metadata": {},
   "source": [
    "## Question 4"
   ]
  },
  {
   "cell_type": "code",
   "execution_count": 81,
   "metadata": {},
   "outputs": [],
   "source": [
    "X = df_train_zero.values"
   ]
  },
  {
   "cell_type": "code",
   "execution_count": 82,
   "metadata": {},
   "outputs": [],
   "source": [
    "def train_lr_regularized(X, y, r_param):\n",
    "    ones = np.ones(X.shape[0])\n",
    "    X = np.column_stack([ones, X])\n",
    "    \n",
    "    XTX = X.T.dot(X)\n",
    "    XTX = XTX + r_param * np.eye(XTX.shape[0])\n",
    "    \n",
    "    XTX_inv = np.linalg.inv(XTX)\n",
    "    w_full = XTX_inv.dot(X.T).dot(y)\n",
    "    return w_full[0], w_full[1:]"
   ]
  },
  {
   "cell_type": "code",
   "execution_count": 83,
   "metadata": {},
   "outputs": [
    {
     "name": "stdout",
     "output_type": "stream",
     "text": [
      "0\n",
      "597.36\n",
      "0.01\n",
      "597.36\n",
      "0.1\n",
      "597.35\n",
      "1\n",
      "597.21\n",
      "5\n",
      "597.01\n",
      "10\n",
      "597.06\n",
      "100\n",
      "597.9\n"
     ]
    }
   ],
   "source": [
    "r_params = [0, 0.01, 0.1, 1, 5, 10, 100]\n",
    "\n",
    "for r_param in r_params:\n",
    "    print(r_param)\n",
    "    model_parameters = train_lr_regularized(X, y_train, r_param)\n",
    "    # print(model_parameters)\n",
    "    y_pred = model_parameters[0] + df_val.fillna(0).values.dot(model_parameters[1])\n",
    "    rmse = calc_rmse(y_val, y_pred)\n",
    "    print(round(rmse, 2))\n",
    "    "
   ]
  },
  {
   "cell_type": "markdown",
   "metadata": {},
   "source": [
    "### Answer 4"
   ]
  },
  {
   "cell_type": "markdown",
   "metadata": {},
   "source": [
    "`r = 0` "
   ]
  },
  {
   "cell_type": "markdown",
   "metadata": {},
   "source": [
    "## Question 5"
   ]
  },
  {
   "cell_type": "code",
   "execution_count": 53,
   "metadata": {},
   "outputs": [
    {
     "name": "stdout",
     "output_type": "stream",
     "text": [
      "565.4520868771027\n",
      "636.7985423056726\n",
      "588.9558697907962\n",
      "597.8148920012521\n",
      "571.962791511102\n",
      "573.2383256618949\n",
      "647.3438328407208\n",
      "550.4398184485952\n",
      "587.333503616991\n",
      "576.1017929433108\n",
      "29.176\n"
     ]
    }
   ],
   "source": [
    "seeds = [0, 1, 2, 3, 4, 5, 6, 7, 8, 9]\n",
    "rmses = []\n",
    "\n",
    "for seed in seeds:\n",
    "    idx = np.arange(n)\n",
    "    np.random.seed(seed)\n",
    "    np.random.shuffle(idx)\n",
    "    \n",
    "    df_train = filtered_df.iloc[idx[:n_train]]\n",
    "    df_val = filtered_df.iloc[idx[n_train:n_train+n_val]]\n",
    "    df_test = filtered_df.iloc[idx[n_train+n_val:]]\n",
    "\n",
    "    y_test = df_test['final_price'].values\n",
    "    y_val = df_val['final_price'].values\n",
    "    y_train = df_train['final_price'].values\n",
    "    \n",
    "    df_test = df_test.drop('final_price', axis=1)\n",
    "    df_val = df_val.drop('final_price', axis=1)\n",
    "    df_train = df_train.drop('final_price', axis=1)\n",
    "\n",
    "    X_train = df_train.fillna(0).values\n",
    "    \n",
    "    parameters = train_linear_regression(X_train, y_train)\n",
    "    # print(parameters)\n",
    "    y_pred = parameters[0] + df_val.fillna(0).values.dot(parameters[1])\n",
    "\n",
    "    rmse = calc_rmse(y_val, y_pred)\n",
    "    print(rmse)\n",
    "    rmses.append(rmse)\n",
    "\n",
    "rmse_std = round(np.std(rmses, axis=0), 3)\n",
    "\n",
    "print(rmse_std)"
   ]
  },
  {
   "cell_type": "markdown",
   "metadata": {},
   "source": [
    "## Question 6"
   ]
  },
  {
   "cell_type": "code",
   "execution_count": 54,
   "metadata": {},
   "outputs": [
    {
     "name": "stdout",
     "output_type": "stream",
     "text": [
      "608.609982204956\n"
     ]
    }
   ],
   "source": [
    "idx = np.arange(n)\n",
    "np.random.seed(9)\n",
    "np.random.shuffle(idx)\n",
    "\n",
    "df_train = filtered_df.iloc[idx[:n_train]]\n",
    "df_val = filtered_df.iloc[idx[n_train:n_train+n_val]]\n",
    "df_test = filtered_df.iloc[idx[n_train+n_val:]]\n",
    "\n",
    "df_test = df_test.reset_index(drop=True)\n",
    "df_val = df_val.reset_index(drop=True)\n",
    "df_train = df_train.reset_index(drop=True)\n",
    "\n",
    "y_test = df_test['final_price'].values\n",
    "y_val = df_val['final_price'].values\n",
    "y_train = df_train['final_price'].values\n",
    "\n",
    "df_test = df_test.drop('final_price', axis=1)\n",
    "df_val = df_val.drop('final_price', axis=1)\n",
    "df_train = df_train.drop('final_price', axis=1)\n",
    "\n",
    "df_train = pd.concat([df_train, df_val])\n",
    "y_train = np.concatenate([y_train, y_val])\n",
    "\n",
    "X_train = df_train.fillna(0).values\n",
    "\n",
    "parameters = train_lr_regularized(X_train, y_train, r_param=0.001)\n",
    "# print(parameters)\n",
    "y_pred = parameters[0] + df_test.fillna(0).values.dot(parameters[1])\n",
    "\n",
    "rmse = calc_rmse(y_test, y_pred)\n",
    "print(rmse)"
   ]
  }
 ],
 "metadata": {
  "kernelspec": {
   "display_name": "ml-zoomcamp",
   "language": "python",
   "name": "python3"
  },
  "language_info": {
   "codemirror_mode": {
    "name": "ipython",
    "version": 3
   },
   "file_extension": ".py",
   "mimetype": "text/x-python",
   "name": "python",
   "nbconvert_exporter": "python",
   "pygments_lexer": "ipython3",
   "version": "3.11.10"
  }
 },
 "nbformat": 4,
 "nbformat_minor": 2
}
